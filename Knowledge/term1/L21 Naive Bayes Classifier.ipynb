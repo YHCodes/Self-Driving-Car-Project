{
 "cells": [
  {
   "cell_type": "markdown",
   "metadata": {},
   "source": [
    "#  Naive Bayes Classifier\n",
    "\n",
    "内容来自 Udacity 的免费课程 《Intro to Machine Learning》\n",
    "\n",
    "无人驾驶汽车是一个重要的监督学习问题，监督表示你有许多不同情况的数据，并且你知道这些情况下的正确操作。向汽车展示正确的驾驶行为来训练汽车。\n",
    "\n",
    "举个例子, 汽车在行驶中需要调节自己的速度，需要根据人类可以观察的一些特征实现这个功能，假设我们简化这个问题，值选取两种特征，一个是地形的坡度(flat, slope, very steep)，第二特征是地形的平整性(smooth, bumpiness, bad), 可以用散点图(scatterplot)来表示。\n",
    "\n",
    "## From Scatterplots to Decision Surfaces\n",
    "机器学习算法做的事情是，它们定义了一个所谓的决策面(decision surface)\n",
    "\n",
    "当决策面是一条直线的时候，为线性决策\n",
    "\n",
    "## Transition to Using Naive Bayes\n",
    "Naive Bayes \n",
    "\n",
    "`sklearn.naive_bayes.GaussianNB`\n"
   ]
  },
  {
   "cell_type": "code",
   "execution_count": 28,
   "metadata": {},
   "outputs": [],
   "source": [
    "# ClassifyNB.py\n",
    "def classify(features_train, labels_train):   \n",
    "    ### import the sklearn module for GaussianNB\n",
    "    from sklearn.naive_bayes import GaussianNB\n",
    "    \n",
    "    ### create classifier\n",
    "    clf = GaussianNB()\n",
    "    \n",
    "    ### fit the classifier on the training features and labels\n",
    "    clf.fit(features_train, labels_train)\n",
    "    \n",
    "    ### return the fit classifier\n",
    "    return clf"
   ]
  },
  {
   "cell_type": "code",
   "execution_count": 34,
   "metadata": {},
   "outputs": [
    {
     "data": {
      "text/plain": [
       "<matplotlib.image.AxesImage at 0x1a191f4f98>"
      ]
     },
     "execution_count": 34,
     "metadata": {},
     "output_type": "execute_result"
    },
    {
     "data": {
      "image/png": "[encoded data removed]",
      "text/plain": [
       "<Figure size 432x288 with 1 Axes>"
      ]
     },
     "metadata": {
      "needs_background": "light"
     },
     "output_type": "display_data"
    }
   ],
   "source": [
    "from class_vis import prettyPicture\n",
    "from prep_terrain_data import makeTerrainData\n",
    "\"\"\" Complete the code in ClassifyNB.py with the sklearn\n",
    "    Naive Bayes classifier to classify the terrain data.\n",
    "    \n",
    "    The objective of this exercise is to recreate the decision \n",
    "    boundary found in the lesson video, and make a plot that\n",
    "    visually shows the decision boundary \"\"\"\n",
    "\n",
    "features_train, labels_train, features_test, labels_test = makeTerrainData()\n",
    "\n",
    "### the training data (features_train, labels_train) have both \"fast\" and \"slow\" points mixed\n",
    "### in together--separate them so we can give them different colors in the scatterplot,\n",
    "### and visually identify them\n",
    "grade_fast = [features_train[ii][0] for ii in range(0, len(features_train)) if labels_train[ii]==0]\n",
    "bumpy_fast = [features_train[ii][1] for ii in range(0, len(features_train)) if labels_train[ii]==0]\n",
    "grade_slow = [features_train[ii][0] for ii in range(0, len(features_train)) if labels_train[ii]==1]\n",
    "bumpy_slow = [features_train[ii][1] for ii in range(0, len(features_train)) if labels_train[ii]==1]\n",
    "\n",
    "# You will need to complete this function imported from the ClassifyNB script.\n",
    "# Be sure to change to that code tab to complete this quiz.\n",
    "clf = classify(features_train, labels_train)\n",
    "\n",
    "### draw the decision boundary with the text points overlaid\n",
    "prettyPicture(clf, features_test, labels_test)\n",
    "\n",
    "#output_image(\"test.png\", \"png\", open(\"test.png\", \"rb\").read())\n",
    "plt.imshow(mpimg.imread('test.png'))\n"
   ]
  },
  {
   "cell_type": "markdown",
   "metadata": {},
   "source": [
    "## Calculating NB Accuracy"
   ]
  },
  {
   "cell_type": "code",
   "execution_count": 35,
   "metadata": {},
   "outputs": [
    {
     "name": "stdout",
     "output_type": "stream",
     "text": [
      "0.884\n"
     ]
    }
   ],
   "source": [
    "from sklearn.metrics import accuracy_score\n",
    "pred = clf.predict(features_test)\n",
    "print(accuracy_score(pred, labels_test))"
   ]
  },
  {
   "cell_type": "markdown",
   "metadata": {},
   "source": [
    "## Conclusion\n",
    "\n",
    "Naive Bayes Strengths:\n",
    "1. Easy to implement.\n",
    "2. with great, big feature spaces.\n",
    "3. Simple to run and efficient\n",
    "\n",
    "Weaknesses:\n",
    "1. 有的时候会失败, google早期使用这个算法的时候，搜索 Chicago Bulls(芝加哥公牛队), 搜索出的结果是公牛或芝加哥的图片\n",
    "\n",
    "\n",
    "要根据你想要解决的具体问题，以及解决问题所需要用到的数据集，来选择算法。\n",
    "\n",
    "不可以把监督分类算法当作是一个黑盒，应该把它们上升到一种对于理论的理解。包括算法如何运行。以及它们是否适合于你想要解决的问题。\n",
    "\n"
   ]
  },
  {
   "cell_type": "code",
   "execution_count": null,
   "metadata": {},
   "outputs": [],
   "source": []
  }
 ],
 "metadata": {
  "kernelspec": {
   "display_name": "Python 3",
   "language": "python",
   "name": "python3"
  },
  "language_info": {
   "codemirror_mode": {
    "name": "ipython",
    "version": 3
   },
   "file_extension": ".py",
   "mimetype": "text/x-python",
   "name": "python",
   "nbconvert_exporter": "python",
   "pygments_lexer": "ipython3",
   "version": "3.7.3"
  },
  "toc": {
   "base_numbering": 1,
   "nav_menu": {},
   "number_sections": true,
   "sideBar": true,
   "skip_h1_title": false,
   "title_cell": "Table of Contents",
   "title_sidebar": "Contents",
   "toc_cell": false,
   "toc_position": {},
   "toc_section_display": true,
   "toc_window_display": false
  }
 },
 "nbformat": 4,
 "nbformat_minor": 2
}
